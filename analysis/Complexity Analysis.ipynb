{
 "cells": [
  {
   "cell_type": "markdown",
   "metadata": {},
   "source": [
    "# Loading the Scripts "
   ]
  },
  {
   "cell_type": "code",
   "execution_count": null,
   "metadata": {},
   "outputs": [],
   "source": []
  },
  {
   "cell_type": "markdown",
   "metadata": {},
   "source": [
    "# Datasets "
   ]
  },
  {
   "cell_type": "code",
   "execution_count": null,
   "metadata": {},
   "outputs": [],
   "source": []
  },
  {
   "cell_type": "markdown",
   "metadata": {},
   "source": [
    "# Computing NPATH, Cyclomatic Complexity, and Path Complexity"
   ]
  },
  {
   "cell_type": "code",
   "execution_count": null,
   "metadata": {},
   "outputs": [],
   "source": []
  },
  {
   "cell_type": "markdown",
   "metadata": {},
   "source": [
    "# Path Complixity Using Sympy"
   ]
  },
  {
   "cell_type": "code",
   "execution_count": 234,
   "metadata": {},
   "outputs": [],
   "source": [
    "import sympy\n",
    "from sympy import Matrix, eye, symbols, degree, Poly, fps, Function, simplify, rsolve, init_printing, solve \n",
    "from sympy import expand, Abs, limit, sympify"
   ]
  },
  {
   "cell_type": "code",
   "execution_count": 138,
   "metadata": {},
   "outputs": [
    {
     "name": "stdout",
     "output_type": "stream",
     "text": [
      "Matrix([[0, 0, 1], [0, 1, 0], [0, 1, 0]])\n"
     ]
    }
   ],
   "source": [
    "L = [[0, 0, 1], [0, 0, 0], [0, 1, 0]]\n",
    "L[1][1] = 1\n",
    "A = Matrix(L)\n",
    "print(A)"
   ]
  },
  {
   "cell_type": "code",
   "execution_count": 142,
   "metadata": {},
   "outputs": [
    {
     "name": "stdout",
     "output_type": "stream",
     "text": [
      "Matrix([[1, 0, -t], [0, -t + 1, 0], [0, -t, 1]])\n"
     ]
    }
   ],
   "source": [
    "t = symbols('t')\n",
    "dimension = 3\n",
    "X = eye(dimension) - A*t\n",
    "print(X)"
   ]
  },
  {
   "cell_type": "code",
   "execution_count": 238,
   "metadata": {},
   "outputs": [],
   "source": [
    "X_sub = X.copy()\n",
    "X_sub.col_del(0)\n",
    "X_sub.row_del(1)"
   ]
  },
  {
   "cell_type": "code",
   "execution_count": 239,
   "metadata": {},
   "outputs": [
    {
     "name": "stdout",
     "output_type": "stream",
     "text": [
      "-t**2/(t - 1)\n"
     ]
    }
   ],
   "source": [
    "generatingFunction = X_sub.det() / ((-1)**(1+2) * X.det())\n",
    "print(generatingFunction)"
   ]
  },
  {
   "cell_type": "code",
   "execution_count": 240,
   "metadata": {},
   "outputs": [
    {
     "name": "stdout",
     "output_type": "stream",
     "text": [
      "Poly(t - 1, t, domain='ZZ')\n"
     ]
    }
   ],
   "source": [
    "denominator = Poly(((-1)**(1+2) * X.det()))\n",
    "print(denominator)"
   ]
  },
  {
   "cell_type": "code",
   "execution_count": 150,
   "metadata": {},
   "outputs": [
    {
     "name": "stdout",
     "output_type": "stream",
     "text": [
      "2\n"
     ]
    }
   ],
   "source": [
    "recurrenceDegree = degree(denominator, gen=t) + 1 \n",
    "print(recurrenceDegree)"
   ]
  },
  {
   "cell_type": "code",
   "execution_count": 153,
   "metadata": {},
   "outputs": [
    {
     "name": "stdout",
     "output_type": "stream",
     "text": [
      "[-1, 1]\n"
     ]
    }
   ],
   "source": [
    "recurrenceKernel = denominator.all_coeffs()[::-1]\n",
    "print(recurrenceKernel)"
   ]
  },
  {
   "cell_type": "code",
   "execution_count": 241,
   "metadata": {},
   "outputs": [
    {
     "name": "stdout",
     "output_type": "stream",
     "text": [
      "[0, 0, 1, 1, 1, 1, 1]\n"
     ]
    }
   ],
   "source": [
    "# We want the first 2*dimension + 1 many coefficients.\n",
    "def fact(n):\n",
    "    if n == 0: \n",
    "        return 1\n",
    "    return n*fact(n-1)\n",
    "\n",
    "f = generatingFunction\n",
    "taylorCoeffs = []\n",
    "n=0\n",
    "for i in range(0, 2*dimension + 1):\n",
    "    taylorCoeffs.append(f.replace('t', 0) / fact(n))\n",
    "    f = f.diff()\n",
    "    n += 1 \n",
    "    \n",
    "print(taylorCoeffs)\n",
    "\n"
   ]
  },
  {
   "cell_type": "code",
   "execution_count": 151,
   "metadata": {},
   "outputs": [
    {
     "name": "stdout",
     "output_type": "stream",
     "text": [
      "[1]\n"
     ]
    }
   ],
   "source": [
    "baseCases = taylorCoeffs[dimension :\n",
    "                         dimension + recurrenceDegree - 1]\n",
    "print(baseCases)"
   ]
  },
  {
   "cell_type": "code",
   "execution_count": 154,
   "metadata": {},
   "outputs": [
    {
     "name": "stdout",
     "output_type": "stream",
     "text": [
      "-f(n) + f(n - 1)\n"
     ]
    }
   ],
   "source": [
    "# Should have as many things as the recurrenceKernel\n",
    "lRange = Matrix(list(range(0, recurrenceDegree)))\n",
    "n = symbols('n')\n",
    "nRange = Matrix([n for _ in range(0, recurrenceDegree)])\n",
    "f = Function('f')\n",
    "A = Matrix(list(map(f, nRange - lRange))).dot(Matrix(recurrenceKernel))\n",
    "print(A)"
   ]
  },
  {
   "cell_type": "code",
   "execution_count": 158,
   "metadata": {},
   "outputs": [
    {
     "name": "stdout",
     "output_type": "stream",
     "text": [
      "C0\n"
     ]
    }
   ],
   "source": [
    "init_printing()\n",
    "symbolicSol = rsolve(A, f(n))\n",
    "print(symbolicSol)"
   ]
  },
  {
   "cell_type": "code",
   "execution_count": 168,
   "metadata": {},
   "outputs": [
    {
     "name": "stdout",
     "output_type": "stream",
     "text": [
      "C0\n"
     ]
    }
   ],
   "source": [
    "r = simplify(symbolicSol)\n",
    "print(r.evalf())"
   ]
  },
  {
   "cell_type": "code",
   "execution_count": 196,
   "metadata": {},
   "outputs": [],
   "source": [
    "# Make a list where each is one of [C0, ... CN] terms\n",
    "numEquations = \"5\"\n",
    "coefficients = symbols(\"C0:\" + numEquations)\n",
    "terms = [1] # TODO "
   ]
  },
  {
   "cell_type": "code",
   "execution_count": 197,
   "metadata": {},
   "outputs": [
    {
     "name": "stdout",
     "output_type": "stream",
     "text": [
      "[1/C0]\n"
     ]
    }
   ],
   "source": [
    "factors = [i / j for i, j in zip(terms, coefficients)]\n",
    "print(factors)"
   ]
  },
  {
   "cell_type": "code",
   "execution_count": 198,
   "metadata": {},
   "outputs": [
    {
     "name": "stdout",
     "output_type": "stream",
     "text": [
      "Matrix([[1/C0]])\n"
     ]
    }
   ],
   "source": [
    "M = [[fact.replace(n, nval) for fact in factors] for nval in range(1, len(factors)+1)]\n",
    "M = Matrix(M)\n",
    "print(M)"
   ]
  },
  {
   "cell_type": "code",
   "execution_count": 210,
   "metadata": {},
   "outputs": [
    {
     "name": "stdout",
     "output_type": "stream",
     "text": [
      "Matrix([[C0]])\n"
     ]
    }
   ],
   "source": [
    "invM = M**-1\n",
    "print(invM)"
   ]
  },
  {
   "cell_type": "code",
   "execution_count": 212,
   "metadata": {},
   "outputs": [
    {
     "name": "stdout",
     "output_type": "stream",
     "text": [
      "1\n"
     ]
    }
   ],
   "source": [
    "boundingSolutionTerms = (invM * Matrix(baseCases)).dot(Matrix(factors))\n",
    "print(boundingSolutionTerms)"
   ]
  },
  {
   "cell_type": "code",
   "execution_count": 225,
   "metadata": {},
   "outputs": [
    {
     "name": "stdout",
     "output_type": "stream",
     "text": [
      "n**2\n",
      "n**2\n"
     ]
    }
   ],
   "source": [
    "boundingSolutionTerms = expand(boundingSolutionTerms)\n",
    "print(boundingSolutionTerms)\n",
    "s = str(boundingSolutionTerms)"
   ]
  },
  {
   "cell_type": "code",
   "execution_count": 237,
   "metadata": {},
   "outputs": [],
   "source": [
    "# Replace all complex numbers with their absolute values\n",
    "\n",
    "# Replace all instances of x^n with abs(x)^n\n",
    "\n",
    "# Split terms on '+'\n",
    "# TEST: expr = n**2 + n + 1\n",
    "s = str(expr)\n",
    "terms = [x.strip() for x in s.split(\"+\")]"
   ]
  },
  {
   "cell_type": "code",
   "execution_count": 236,
   "metadata": {},
   "outputs": [
    {
     "data": {
      "text/plain": [
       "'n**2'"
      ]
     },
     "execution_count": 236,
     "metadata": {},
     "output_type": "execute_result"
    }
   ],
   "source": [
    "def bigO(terms, sym):\n",
    "    \n",
    "    \n",
    "    if len(terms) == 1:\n",
    "        return terms[0]\n",
    "    \n",
    "    termOne = terms[0]\n",
    "    termTwo = terms[1]\n",
    "    lim = limit(Abs(sympify(termTwo) / sympify(termOne)), n, float('inf'))\n",
    "    \n",
    "    if lim == 0:\n",
    "        return termOne\n",
    "    \n",
    "    return bigO(L[1:], sym)\n",
    "                \n",
    "bigO(terms, 'n')        "
   ]
  }
 ],
 "metadata": {
  "kernelspec": {
   "display_name": "Python 3",
   "language": "python",
   "name": "python3"
  },
  "language_info": {
   "codemirror_mode": {
    "name": "ipython",
    "version": 3
   },
   "file_extension": ".py",
   "mimetype": "text/x-python",
   "name": "python",
   "nbconvert_exporter": "python",
   "pygments_lexer": "ipython3",
   "version": "3.6.7"
  }
 },
 "nbformat": 4,
 "nbformat_minor": 2
}
