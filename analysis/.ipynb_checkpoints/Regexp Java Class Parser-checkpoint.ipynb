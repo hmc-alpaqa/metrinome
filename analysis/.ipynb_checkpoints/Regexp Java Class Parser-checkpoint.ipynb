{
 "cells": [
  {
   "cell_type": "markdown",
   "metadata": {},
   "source": [
    "This contains part of the code for parsing through Java source code to obtain function names using regular expressions. Note that this is not used in the final version as the 'javalang' module in python can be used to convert the code to an AST directly. \n",
    "\n",
    "First, we note that all test functions have a '@Test' annotation before the function declaration. However, the issue is that there could be any number of other annotations between '@Test' and the declaration of the function itself."
   ]
  },
  {
   "cell_type": "code",
   "execution_count": null,
   "metadata": {},
   "outputs": [],
   "source": [
    "functions = dict()\n",
    "\n",
    "# Open all of the test files \n",
    "for file in associatedFiles.keys(): \n",
    "    # Make sure that we have both the test file and the source \n",
    "    if (len(associatedFiles[file]) == 2): \n",
    "        # Open the test file \n",
    "        with open(associatedFiles[file][1], \"r\") as f: \n",
    "            content = f.readlines()\n",
    "            for index, line in enumerate(content):\n",
    "                res = re.match(\"[ ]*@Test\", line)\n",
    "                if res == None: \n",
    "                    continue \n",
    "                nextLine = content[index + 1]\n",
    "                if re.match(\"[ ]*@Annotated\", nextLine) != None:\n",
    "                    index += 2\n",
    "                else: \n",
    "                    index += 1\n",
    "                \n",
    "                # Check that it is not a comment \n",
    "                res = re.match(\"[ ]*//\", content[index])\n",
    "                if res is not None:\n",
    "                    index += 1\n",
    "                \n",
    "                # Check for '@SuppressWarnings'\n",
    "                res = re.match(\"[ ]*@SuppressWarnings\", content[index])\n",
    "                if res is not None: \n",
    "                    index += 1\n",
    "                \n",
    "                if file in functions: \n",
    "                    functions[file].append(content[index].strip())\n",
    "                else: \n",
    "                    functions[file] = [content[index].strip()]\n",
    "\n",
    "pprint(functions) "
   ]
  },
  {
   "cell_type": "code",
   "execution_count": null,
   "metadata": {},
   "outputs": [],
   "source": [
    "# Removed the prefix ('public void test_...'), \n",
    "# ignoring helper functions\n",
    "actual_functions = dict()\n",
    "for class_name in functions:\n",
    "    functionsList = functions[class_name]\n",
    "    for function in functionsList:\n",
    "        # Get the name of the function \n",
    "        res = re.match(\"[ ]*[A-Za-z][A-Za-z]* [A-Za-z][A-Za-z]* ([A-Za-z][A-z_0-9]*)\", function)\n",
    "        function_name = res.groups()[0]\n",
    "\n",
    "        # All functions start with 'test'\n",
    "        if function_name[:4] == \"test\": \n",
    "            if class_name in actual_functions: \n",
    "                actual_functions[class_name].append(function_name[4:])\n",
    "            else: \n",
    "                actual_functions[class_name] = [function_name[4:]]\n",
    "\n",
    "pprint(actual_functions)"
   ]
  },
  {
   "cell_type": "code",
   "execution_count": 1,
   "metadata": {},
   "outputs": [
    {
     "ename": "NameError",
     "evalue": "name 'associatedFiles' is not defined",
     "output_type": "error",
     "traceback": [
      "\u001b[0;31m---------------------------------------------------------------------------\u001b[0m",
      "\u001b[0;31mNameError\u001b[0m                                 Traceback (most recent call last)",
      "\u001b[0;32m<ipython-input-1-b2a7f0fe5e07>\u001b[0m in \u001b[0;36m<module>\u001b[0;34m\u001b[0m\n\u001b[1;32m      2\u001b[0m \u001b[0;34m\u001b[0m\u001b[0m\n\u001b[1;32m      3\u001b[0m \u001b[0;31m# Open the real files\u001b[0m\u001b[0;34m\u001b[0m\u001b[0;34m\u001b[0m\u001b[0;34m\u001b[0m\u001b[0m\n\u001b[0;32m----> 4\u001b[0;31m \u001b[0;32mfor\u001b[0m \u001b[0mfile\u001b[0m \u001b[0;32min\u001b[0m \u001b[0massociatedFiles\u001b[0m\u001b[0;34m.\u001b[0m\u001b[0mkeys\u001b[0m\u001b[0;34m(\u001b[0m\u001b[0;34m)\u001b[0m\u001b[0;34m:\u001b[0m\u001b[0;34m\u001b[0m\u001b[0;34m\u001b[0m\u001b[0m\n\u001b[0m\u001b[1;32m      5\u001b[0m     \u001b[0;32mif\u001b[0m \u001b[0mlen\u001b[0m\u001b[0;34m(\u001b[0m\u001b[0massociatedFiles\u001b[0m\u001b[0;34m[\u001b[0m\u001b[0mfile\u001b[0m\u001b[0;34m]\u001b[0m\u001b[0;34m)\u001b[0m \u001b[0;34m==\u001b[0m \u001b[0;36m2\u001b[0m\u001b[0;34m:\u001b[0m\u001b[0;34m\u001b[0m\u001b[0;34m\u001b[0m\u001b[0m\n\u001b[1;32m      6\u001b[0m         \u001b[0;31m# Open the file\u001b[0m\u001b[0;34m\u001b[0m\u001b[0;34m\u001b[0m\u001b[0;34m\u001b[0m\u001b[0m\n",
      "\u001b[0;31mNameError\u001b[0m: name 'associatedFiles' is not defined"
     ]
    }
   ],
   "source": [
    "functionSet = dict()\n",
    "\n",
    "# Open the real files \n",
    "for file in associatedFiles.keys(): \n",
    "    if len(associatedFiles[file]) == 2:\n",
    "        # Open the file \n",
    "        with open(associatedFiles[file][0], \"r\") as f: \n",
    "            content = f.readlines() \n",
    "            for line in content:\n",
    "                r = re.match(\"([ ]*)(public)(.*)\", line)\n",
    "                r1 = re.match(\"([ ]*)(protected)(.*)\", line) \n",
    "                r2 = re.match(\"([ ]*)(private)(.*)\", line)\n",
    "                \n",
    "                if r:\n",
    "                    new_line = r.groups()[2]\n",
    "                elif r1:\n",
    "                    new_line = r1.groups()[2]\n",
    "                elif r2:\n",
    "                    new_line = r2.groups()[2]\n",
    "                else:\n",
    "                    continue \n",
    "                    \n",
    "                if re.match(\"enum\", new_line):\n",
    "                    continue\n",
    "                L = [\"static\", \"void\", \"final\", \"long\", \"int\", \"boolean\",\n",
    "                     \"Integer\", \"byte\", \"float\", \"double\", \"Date\", \"String\"]\n",
    "                \n",
    "                for l in L:\n",
    "                    r = re.match(\"[ ]*\" + l + \"(.*)\", new_line)\n",
    "                    if r:\n",
    "                        new_line = r.groups()[0]\n",
    "                r = re.match(\"(.*)\\(.*\\).*\", new_line)              \n",
    "                if re.match(\".*=.*\", new_line):\n",
    "                    continue \n",
    "                    \n",
    "                if (r):\n",
    "                    if file in functionSet: \n",
    "                        functionSet[file].add(r.groups()[0])\n",
    "                    else:\n",
    "                        functionSet[file] = set() \n",
    "                        functionSet[file].add(r.groups()[0])\n",
    "                    \n",
    "pprint(functionSet)"
   ]
  },
  {
   "cell_type": "code",
   "execution_count": null,
   "metadata": {},
   "outputs": [],
   "source": [
    "for key in functionSet.keys(): \n",
    "    functions = functionSet[key]\n",
    "    newFunctions = [] \n",
    "    for function in functions:\n",
    "        function = function.strip()\n",
    "#         print(function)\n",
    "        while (True): \n",
    "            if function[:8] == 'abstract':\n",
    "                function = function[8:].strip()\n",
    "            elif function[:2] == \"M \" or function[:2] == \"L \" or function[:2] == \"R \" or function[:2] == \"T \":\n",
    "                function = function[2:].strip()\n",
    "            elif function[:3] == \"<T>\": \n",
    "                function = function[3:].strip()\n",
    "            elif function[:6] == \"<L, R>\":\n",
    "                function = function[6:].strip()\n",
    "            elif function[:9] == \"<L, M, R>\":\n",
    "                function = function[9:].strip()\n",
    "            else: \n",
    "                newFunctions.append(function)\n",
    "                break \n",
    "    functionSet[key] = newFunctions\n",
    "    pprint(newFunctions)\n",
    "    "
   ]
  },
  {
   "cell_type": "code",
   "execution_count": 2,
   "metadata": {},
   "outputs": [
    {
     "ename": "NameError",
     "evalue": "name 'csv' is not defined",
     "output_type": "error",
     "traceback": [
      "\u001b[0;31m---------------------------------------------------------------------------\u001b[0m",
      "\u001b[0;31mNameError\u001b[0m                                 Traceback (most recent call last)",
      "\u001b[0;32m<ipython-input-2-4030b1887f3d>\u001b[0m in \u001b[0;36m<module>\u001b[0;34m\u001b[0m\n\u001b[1;32m      1\u001b[0m \u001b[0;32mwith\u001b[0m \u001b[0mopen\u001b[0m\u001b[0;34m(\u001b[0m\u001b[0;34m'functions.csv'\u001b[0m\u001b[0;34m,\u001b[0m \u001b[0;34m'w'\u001b[0m\u001b[0;34m)\u001b[0m \u001b[0;32mas\u001b[0m \u001b[0mcsvFile\u001b[0m\u001b[0;34m:\u001b[0m\u001b[0;34m\u001b[0m\u001b[0;34m\u001b[0m\u001b[0m\n\u001b[0;32m----> 2\u001b[0;31m     \u001b[0mwriter\u001b[0m \u001b[0;34m=\u001b[0m \u001b[0mcsv\u001b[0m\u001b[0;34m.\u001b[0m\u001b[0mwriter\u001b[0m\u001b[0;34m(\u001b[0m\u001b[0mcsvFile\u001b[0m\u001b[0;34m)\u001b[0m\u001b[0;34m\u001b[0m\u001b[0;34m\u001b[0m\u001b[0m\n\u001b[0m\u001b[1;32m      3\u001b[0m     \u001b[0;32mfor\u001b[0m \u001b[0mkey\u001b[0m \u001b[0;32min\u001b[0m \u001b[0mfunctionSet\u001b[0m\u001b[0;34m.\u001b[0m\u001b[0mkeys\u001b[0m\u001b[0;34m(\u001b[0m\u001b[0;34m)\u001b[0m\u001b[0;34m:\u001b[0m\u001b[0;34m\u001b[0m\u001b[0;34m\u001b[0m\u001b[0m\n\u001b[1;32m      4\u001b[0m         \u001b[0mrow1\u001b[0m \u001b[0;34m=\u001b[0m \u001b[0;34m[\u001b[0m\u001b[0mkey\u001b[0m\u001b[0;34m]\u001b[0m\u001b[0;34m\u001b[0m\u001b[0;34m\u001b[0m\u001b[0m\n\u001b[1;32m      5\u001b[0m         \u001b[0;32mtry\u001b[0m\u001b[0;34m:\u001b[0m\u001b[0;34m\u001b[0m\u001b[0;34m\u001b[0m\u001b[0m\n",
      "\u001b[0;31mNameError\u001b[0m: name 'csv' is not defined"
     ]
    }
   ],
   "source": [
    "with open('functions.csv', 'w') as csvFile:\n",
    "    writer = csv.writer(csvFile) \n",
    "    for key in functionSet.keys(): \n",
    "        row1 = [key]\n",
    "        try: \n",
    "            row2 = list(functionSet[key])\n",
    "            row3 = actual_functions[key]\n",
    "            writer.writerow(row1)\n",
    "            writer.writerow(row2)\n",
    "            writer.writerow(row3)\n",
    "        except: \n",
    "            print(key)"
   ]
  }
 ],
 "metadata": {
  "kernelspec": {
   "display_name": "Python 3",
   "language": "python",
   "name": "python3"
  },
  "language_info": {
   "codemirror_mode": {
    "name": "ipython",
    "version": 3
   },
   "file_extension": ".py",
   "mimetype": "text/x-python",
   "name": "python",
   "nbconvert_exporter": "python",
   "pygments_lexer": "ipython3",
   "version": "3.6.7"
  }
 },
 "nbformat": 4,
 "nbformat_minor": 2
}
