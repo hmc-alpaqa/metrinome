{
 "cells": [
  {
   "cell_type": "markdown",
   "metadata": {},
   "source": [
    "# Obtaining the Dataset\n",
    "\n",
    "In this case we'll use: https://github.com/apache/commons-lang\n",
    "\n",
    "## Directory Structure\n",
    "After cloning the repository, we can find all of the Java code in\n",
    "```\n",
    "commons-lang/src/main/java/org/apache/commons/lang3\n",
    "```\n",
    "which contains several folders (arch, builder, concurrent, event, exception, math, mutable, reflect, text, time, tuple) as well as utils (AnnotationUtils, ArchUtils, ArrayUtils, etc...) each containing Java classes.\n",
    "The tests for this code are located in \n",
    "```\n",
    "commons-lang/src/test/java/org/apache/commons/lang3\n",
    "``` \n",
    "which has the exact same file/folder structure, except each [Name].java file will become [Name]Test.java. \n",
    "Each test method is then denoted by @test.\n",
    "#### Note: \n",
    "These scripts use the 'javalang' python module to parse Java code. This module can be obtained with \n",
    "```\n",
    "pip3 install javalang\n",
    "```"
   ]
  },
  {
   "cell_type": "markdown",
   "metadata": {},
   "source": [
    "## Implementation\n",
    "\n",
    "A large portion of this code is done using the 'javalang' module. This can be found at \n",
    "```\n",
    "https://github.com/c2nes/javalang/tree/master/javalang\n",
    "```\n",
    "This module will convert any Java code into an AST which can be traversed easily. "
   ]
  },
  {
   "cell_type": "code",
   "execution_count": 205,
   "metadata": {},
   "outputs": [],
   "source": [
    "import os, re, glob\n",
    "from pprint import pprint\n",
    "import javalang\n",
    "import numpy as np \n",
    "import matplotlib.pyplot as plt \n",
    "from collections import Counter\n",
    "\n",
    "SHOW_INTERMEDIATE_RESULTS = False"
   ]
  },
  {
   "cell_type": "markdown",
   "metadata": {},
   "source": [
    "First, we obtain a list of absolute paths to all the files containing the Java code, and a list of all of the files containing the tests. This requires the relative path to both the test folder and the folder with the main code itself. Note that we pass in something like: \n",
    "```\n",
    "data/commons-lang/src/test/java/org/apache/commons/lang3/\n",
    "```\n",
    "which glob will then use to look for any .java files in any subdirectory of lang3."
   ]
  },
  {
   "cell_type": "code",
   "execution_count": 159,
   "metadata": {},
   "outputs": [],
   "source": [
    "def getFileLists(rel_path_to_test, rel_path_to_code): \n",
    "    cwd = os.getcwd()\n",
    "\n",
    "    ABSOLUTE_TEST_PATH = os.path.join(rel_path_to_test, \"**/*.java\")    \n",
    "    ABSOLUTE_CODE_PATH = os.path.join(rel_path_to_code, \"**/*.java\")\n",
    "    \n",
    "    ABSOLUTE_TEST_PATH_TWO = os.path.join(rel_path_to_test, \"*.java\")\n",
    "    ABSOLUTE_CODE_PATH_TWO = os.path.join(rel_path_to_code, \"*.java\")\n",
    "\n",
    "    codeFiles = glob.glob(ABSOLUTE_CODE_PATH)\n",
    "    testFiles = glob.glob(ABSOLUTE_TEST_PATH)\n",
    "    \n",
    "    testFiles += glob.glob(ABSOLUTE_TEST_PATH_TWO)\n",
    "    codeFiles += glob.glob(ABSOLUTE_CODE_PATH_TWO)\n",
    "\n",
    "    return codeFiles, testFiles"
   ]
  },
  {
   "cell_type": "markdown",
   "metadata": {},
   "source": [
    "Now, we associate each file with its testfile. In order to do this, we obtain some \"base name\", e.g.:\n",
    "\n",
    "commons-lang/src/test/java/org/apache/commons/lang3/concurrent/Computable.java $\\mapsto$ Computable\n",
    "\n",
    "Then store it in a dictionary such that \n",
    "\n",
    "```\n",
    "dict[\"Computable\"] = (Absolute Path to Source, Absolute Path to Tests) \n",
    "```"
   ]
  },
  {
   "cell_type": "code",
   "execution_count": 160,
   "metadata": {},
   "outputs": [],
   "source": [
    "def createDictionary(codeFiles, testFiles): \n",
    "    associatedFiles = dict()\n",
    "    otherTestFiles = list()\n",
    "    \n",
    "    for codeFile in codeFiles: \n",
    "        path = os.path.basename(codeFile)\n",
    "        rexpResult = re.match(\"[A-Za-z0-9-]*\", path)\n",
    "        base_name = rexpResult.group()\n",
    "        \n",
    "        # package-info.java files don't contain method \n",
    "        # implementations\n",
    "        if base_name == \"package-info\": \n",
    "            continue\n",
    "        associatedFiles[base_name] = codeFile\n",
    "\n",
    "    for testFile in testFiles: \n",
    "        path = os.path.basename(testFile)\n",
    "        rexpResult = re.match(\"([A-Za-z0-9-_]*)(Test)\", path)\n",
    "        if rexpResult == None:\n",
    "            continue \n",
    "            \n",
    "        base_name = rexpResult.groups()[0] \n",
    "        if base_name in associatedFiles:  \n",
    "            associatedFiles[base_name] = (associatedFiles[base_name],\n",
    "                                          testFile)\n",
    "        else: \n",
    "            otherTestFiles.append(path)\n",
    "\n",
    "    return associatedFiles, otherTestFiles"
   ]
  },
  {
   "cell_type": "markdown",
   "metadata": {},
   "source": [
    "Some files do not have an associated test file - remove these from the dictionary and return them in a separate list so we can deal with them later."
   ]
  },
  {
   "cell_type": "code",
   "execution_count": 175,
   "metadata": {},
   "outputs": [],
   "source": [
    "def getLeftOverFiles(associatedFiles):\n",
    "    newDict = dict() \n",
    "    leftOverFiles = [] \n",
    "    for key in associatedFiles.keys(): \n",
    "        if len(associatedFiles[key]) != 2: \n",
    "            leftOverFiles += [associatedFiles[key]]\n",
    "            continue \n",
    "\n",
    "        newDict[key] = associatedFiles[key] \n",
    "\n",
    "    return newDict, leftOverFiles"
   ]
  },
  {
   "cell_type": "markdown",
   "metadata": {},
   "source": [
    "Given an associated files dictionary, create a new 'associated functions' dictionary such that the key will be some base name (e.g. Computable) and the value will be a list \\[methods, testMethods\\]. Each method is stored as (Method Name, Parameter Types, Subcalls). This allows us to distinguish between overloaded methods, and also allows us to count how many times any given method is called."
   ]
  },
  {
   "cell_type": "code",
   "execution_count": 185,
   "metadata": {},
   "outputs": [],
   "source": [
    "def getAssociatedFunctions(associatedFiles): \n",
    "    associatedFunctions = dict() \n",
    "\n",
    "    for key in associatedFiles.keys():     \n",
    "        fileList = associatedFiles[key]\n",
    "        relatedClassFunctions = [0, 0]\n",
    "        for file_index in range(2):\n",
    "            with open(fileList[file_index], \"r\") as f: \n",
    "                tree = javalang.parse.parse(f.read())\n",
    "                all_methods = [] \n",
    "                params = []\n",
    "                # Iterate through all functions in the class\n",
    "                for path, node in tree.filter(javalang.tree.MethodDeclaration):  \n",
    "                    params = [test.type.name for test in node.parameters] \n",
    "                    # Currently does not include constructors\n",
    "                    subcalls = [a[1].member for a in node.filter(javalang.tree.Invocation)]\n",
    "                    all_methods.append((node.name, params, subcalls))\n",
    "\n",
    "                relatedClassFunctions[file_index] = all_methods\n",
    "\n",
    "        associatedFunctions[key] = relatedClassFunctions\n",
    "    return associatedFunctions"
   ]
  },
  {
   "cell_type": "markdown",
   "metadata": {},
   "source": [
    "Obtain a dictionary of key-value pairs (Function Name, Number of Times Function is Called). "
   ]
  },
  {
   "cell_type": "code",
   "execution_count": 186,
   "metadata": {},
   "outputs": [],
   "source": [
    "def getCounts(): \n",
    "    counts = Counter() \n",
    "    for key in associatedFunctions.keys(): \n",
    "        L = [a[2] for a in associatedFunctions[key][1]]\n",
    "        for funcs in L:\n",
    "            counts.update(funcs)\n",
    "    return counts "
   ]
  },
  {
   "cell_type": "markdown",
   "metadata": {},
   "source": []
  },
  {
   "cell_type": "code",
   "execution_count": 187,
   "metadata": {},
   "outputs": [],
   "source": [
    "rel_path_to_test = \"data/commons-lang/src/test/java/org/apache/commons/lang3/\"\n",
    "rel_path_to_code = \"data/commons-lang/src/main/java/org/apache/commons/lang3/\"\n",
    "codeFiles, testFiles = getFileLists(rel_path_to_test, rel_path_to_code)"
   ]
  },
  {
   "cell_type": "code",
   "execution_count": 188,
   "metadata": {},
   "outputs": [],
   "source": [
    "associatedFiles, leftOverTestFiles = createDictionary(codeFiles, testFiles)\n",
    "associatedFiles, leftOverFiles = getLeftOverFiles(associatedFiles)"
   ]
  },
  {
   "cell_type": "code",
   "execution_count": 189,
   "metadata": {},
   "outputs": [],
   "source": [
    "associatedFunctions = getAssociatedFunctions(associatedFiles)"
   ]
  },
  {
   "cell_type": "code",
   "execution_count": 199,
   "metadata": {},
   "outputs": [
    {
     "name": "stdout",
     "output_type": "stream",
     "text": [
      "['data/commons-lang/src/main/java/org/apache/commons/lang3/concurrent/AbstractCircuitBreaker.java',\n",
      " 'data/commons-lang/src/main/java/org/apache/commons/lang3/concurrent/CircuitBreaker.java',\n",
      " 'data/commons-lang/src/main/java/org/apache/commons/lang3/concurrent/ConcurrentException.java',\n",
      " 'data/commons-lang/src/main/java/org/apache/commons/lang3/concurrent/Computable.java',\n",
      " 'data/commons-lang/src/main/java/org/apache/commons/lang3/concurrent/ConcurrentRuntimeException.java',\n",
      " 'data/commons-lang/src/main/java/org/apache/commons/lang3/concurrent/ConcurrentInitializer.java',\n",
      " 'data/commons-lang/src/main/java/org/apache/commons/lang3/exception/ExceptionContext.java',\n",
      " 'data/commons-lang/src/main/java/org/apache/commons/lang3/reflect/Typed.java',\n",
      " 'data/commons-lang/src/main/java/org/apache/commons/lang3/reflect/MemberUtils.java',\n",
      " 'data/commons-lang/src/main/java/org/apache/commons/lang3/time/TimeZones.java',\n",
      " 'data/commons-lang/src/main/java/org/apache/commons/lang3/time/DateParser.java',\n",
      " 'data/commons-lang/src/main/java/org/apache/commons/lang3/time/FormatCache.java',\n",
      " 'data/commons-lang/src/main/java/org/apache/commons/lang3/time/DatePrinter.java',\n",
      " 'data/commons-lang/src/main/java/org/apache/commons/lang3/mutable/Mutable.java',\n",
      " 'data/commons-lang/src/main/java/org/apache/commons/lang3/builder/Builder.java',\n",
      " 'data/commons-lang/src/main/java/org/apache/commons/lang3/builder/Diffable.java',\n",
      " 'data/commons-lang/src/main/java/org/apache/commons/lang3/builder/HashCodeExclude.java',\n",
      " 'data/commons-lang/src/main/java/org/apache/commons/lang3/builder/ToStringExclude.java',\n",
      " 'data/commons-lang/src/main/java/org/apache/commons/lang3/builder/IDKey.java',\n",
      " 'data/commons-lang/src/main/java/org/apache/commons/lang3/builder/EqualsExclude.java',\n",
      " 'data/commons-lang/src/main/java/org/apache/commons/lang3/builder/ToStringSummary.java',\n",
      " 'data/commons-lang/src/main/java/org/apache/commons/lang3/text/FormatFactory.java',\n",
      " 'data/commons-lang/src/main/java/org/apache/commons/lang3/arch/Processor.java',\n",
      " 'data/commons-lang/src/main/java/org/apache/commons/lang3/SerializationException.java']\n",
      "['AbstractConcurrentInitializerTest.java',\n",
      " 'AbstractExceptionContextTest.java',\n",
      " 'AbstractExceptionTest.java',\n",
      " 'FastDateParser_TimeZoneStrategyTest.java',\n",
      " 'FastDateFormat_PrinterTest.java',\n",
      " 'DateUtilsFragmentTest.java',\n",
      " 'FastDateParser_MoreOrLessTest.java',\n",
      " 'WeekYearTest.java',\n",
      " 'FastDateFormat_ParserTest.java',\n",
      " 'FastDateParserSDFTest.java',\n",
      " 'FastDatePrinterTimeZonesTest.java',\n",
      " 'DateUtilsRoundingTest.java',\n",
      " 'ReflectionToStringBuilderExcludeWithAnnotationTest.java',\n",
      " 'ShortPrefixToStringStyleTest.java',\n",
      " 'ReflectionToStringBuilderConcurrencyTest.java',\n",
      " 'ReflectionToStringBuilderSummaryTest.java',\n",
      " 'NoFieldNamesToStringStyleTest.java',\n",
      " 'SimpleToStringStyleTest.java',\n",
      " 'ReflectionToStringBuilderExcludeNullValuesTest.java',\n",
      " 'ReflectionToStringBuilderExcludeTest.java',\n",
      " 'ToStringStyleConcurrencyTest.java',\n",
      " 'HashCodeBuilderAndEqualsBuilderTest.java',\n",
      " 'NoClassNameToStringStyleTest.java',\n",
      " 'MultiLineToStringStyleTest.java',\n",
      " 'DefaultToStringStyleTest.java',\n",
      " 'ReflectionToStringBuilderMutateInspectConcurrencyTest.java',\n",
      " 'JsonToStringStyleTest.java',\n",
      " 'StrBuilderAppendInsertTest.java',\n",
      " 'ArrayUtilsInsertTest.java',\n",
      " 'StringUtilsContainsTest.java',\n",
      " 'StringUtilsStartsEndsWithTest.java',\n",
      " 'ArrayUtilsAddTest.java',\n",
      " 'StringUtilsValueOfTest.java',\n",
      " 'ArrayUtilsRemoveTest.java',\n",
      " 'StringUtilsEmptyBlankTest.java',\n",
      " 'StringUtilsEqualsIndexOfTest.java',\n",
      " 'StringUtilsSubstringTest.java',\n",
      " 'StringUtilsIsTest.java',\n",
      " 'StringUtilsTrimStripTest.java',\n",
      " 'ArrayUtilsRemoveMultipleTest.java',\n",
      " 'HashSetvBitSetTest.java']\n"
     ]
    }
   ],
   "source": [
    "pprint(leftOverFiles)\n",
    "pprint(leftOverTestFiles)"
   ]
  },
  {
   "cell_type": "code",
   "execution_count": 200,
   "metadata": {},
   "outputs": [
    {
     "data": {
      "image/png": "[encoded data removed]",
      "text/plain": [
       "<Figure size 720x720 with 1 Axes>"
      ]
     },
     "metadata": {
      "needs_background": "light"
     },
     "output_type": "display_data"
    }
   ],
   "source": [
    "# Distribution of function calls in test classes overall \n",
    "countsList = [] \n",
    "counts = getCounts()\n",
    "for key in counts.keys(): \n",
    "    countsList += [counts[key]]\n",
    "\n",
    "plt.figure(figsize=(10,10))\n",
    "plt.hist(L, 200, log=True)\n",
    "plt.show()"
   ]
  },
  {
   "cell_type": "code",
   "execution_count": 203,
   "metadata": {},
   "outputs": [
    {
     "data": {
      "image/png": "[encoded data removed]",
      "text/plain": [
       "<Figure size 720x720 with 1 Axes>"
      ]
     },
     "metadata": {
      "needs_background": "light"
     },
     "output_type": "display_data"
    }
   ],
   "source": [
    "# Ignoring Outliers \n",
    "plt.figure(figsize=(10,10))\n",
    "plt.xlim(0, 500)\n",
    "plt.hist(L, 1300, log=True)\n",
    "plt.show()"
   ]
  },
  {
   "cell_type": "markdown",
   "metadata": {},
   "source": [
    "# Data Analysis\n",
    "\n",
    "We would like to know the following: \n",
    "1. Is there a correlation between NPATH Complexity and Function Call Count?\n",
    "2. Is there a correlation between Cyclomatic Complexity and Function Call Count?\n",
    "3. (?) Is there a correlation between Asymptotic Path Complexity and Function Call Count\n",
    "\n",
    "First, load the NPATH/Cyclomatic Complexity/APC Data"
   ]
  },
  {
   "cell_type": "code",
   "execution_count": 214,
   "metadata": {},
   "outputs": [
    {
     "ename": "ModuleNotFoundError",
     "evalue": "No module named 'pizza'",
     "output_type": "error",
     "traceback": [
      "\u001b[0;31m---------------------------------------------------------------------------\u001b[0m",
      "\u001b[0;31mModuleNotFoundError\u001b[0m                       Traceback (most recent call last)",
      "\u001b[0;32m<ipython-input-214-f220331427c1>\u001b[0m in \u001b[0;36m<module>\u001b[0;34m\u001b[0m\n\u001b[0;32m----> 1\u001b[0;31m \u001b[0;32mimport\u001b[0m \u001b[0mpizza\u001b[0m\u001b[0;34m\u001b[0m\u001b[0;34m\u001b[0m\u001b[0m\n\u001b[0m\u001b[1;32m      2\u001b[0m \u001b[0;34m\u001b[0m\u001b[0m\n\u001b[1;32m      3\u001b[0m \u001b[0mapache_results\u001b[0m \u001b[0;34m=\u001b[0m \u001b[0;34m\"/home/gabe/Documents/repos/path-complexity/\"\u001b[0m \u001b[0;34m+\u001b[0m\u001b[0;31m \u001b[0m\u001b[0;31m\\\u001b[0m\u001b[0;34m\u001b[0m\u001b[0;34m\u001b[0m\u001b[0m\n\u001b[1;32m      4\u001b[0m                  \u001b[0;34m\"results/expected/apache_cfgs_all_expected_results.csv\"\u001b[0m\u001b[0;34m\u001b[0m\u001b[0;34m\u001b[0m\u001b[0m\n\u001b[1;32m      5\u001b[0m \u001b[0mmetrics\u001b[0m \u001b[0;34m=\u001b[0m \u001b[0mp\u001b[0m\u001b[0;34m.\u001b[0m\u001b[0mMetricsCalculator\u001b[0m\u001b[0;34m.\u001b[0m\u001b[0mfromCSV\u001b[0m\u001b[0;34m(\u001b[0m\u001b[0mpath\u001b[0m\u001b[0;34m,\u001b[0m \u001b[0;32mNone\u001b[0m\u001b[0;34m)\u001b[0m\u001b[0;34m\u001b[0m\u001b[0;34m\u001b[0m\u001b[0m\n",
      "\u001b[0;31mModuleNotFoundError\u001b[0m: No module named 'pizza'"
     ]
    }
   ],
   "source": [
    "import pizza\n",
    "\n",
    "apache_results = \"/home/gabe/Documents/repos/path-complexity/\" + \\\n",
    "                 \"results/expected/apache_cfgs_all_expected_results.csv\"\n",
    "metrics = p.MetricsCalculator.fromCSV(path, None)\n",
    "print(metrics)"
   ]
  },
  {
   "cell_type": "markdown",
   "metadata": {},
   "source": [
    "Create a dictionary mapping function names to (NPATH, Cyclomatic, APC, Function Call Count)"
   ]
  },
  {
   "cell_type": "code",
   "execution_count": 197,
   "metadata": {},
   "outputs": [
    {
     "name": "stdout",
     "output_type": "stream",
     "text": [
      "<paths.MetricsCalculator object at 0x7f9ef635ee10>\n"
     ]
    }
   ],
   "source": []
  }
 ],
 "metadata": {
  "kernelspec": {
   "display_name": "Python 3",
   "language": "python",
   "name": "python3"
  },
  "language_info": {
   "codemirror_mode": {
    "name": "ipython",
    "version": 3
   },
   "file_extension": ".py",
   "mimetype": "text/x-python",
   "name": "python",
   "nbconvert_exporter": "python",
   "pygments_lexer": "ipython3",
   "version": "3.6.7"
  }
 },
 "nbformat": 4,
 "nbformat_minor": 2
}
