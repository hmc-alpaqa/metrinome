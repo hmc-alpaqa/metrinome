{
 "cells": [
  {
   "cell_type": "code",
   "execution_count": 4,
   "metadata": {},
   "outputs": [],
   "source": [
    "import sympy\n",
    "import numpy as np\n",
    "from sympy import Matrix, eye, symbols, degree, Poly, fps, Function, simplify, rsolve, init_printing, solve \n",
    "from sympy import expand, Abs, limit, sympify, series\n",
    "from collections import Counter\n",
    "from IPython.display import display, Latex\n",
    "from mpmath import polyroots\n",
    "from time import time\n",
    "import re"
   ]
  },
  {
   "cell_type": "markdown",
   "metadata": {},
   "source": [
    "## Finding Taylor Series Coefficients \n",
    "\n",
    "In calculating the asymptotic path complexity for a given control flow graph, the generating function we obtain is a rational function. Consider its Taylor series about 0,\n",
    "\n",
    "$$ \\frac{\\sum_{i=0}^n a_ix^i}{\\sum_{k=0}^m b_l x^k} = \\sum_{j=0}^\\infty c_jx^j $$"
   ]
  },
  {
   "cell_type": "markdown",
   "metadata": {},
   "source": [
    "Rearranging yields \n",
    "\n",
    "$$ \\sum_{i=0}^{n} a_ix^i = \\left(\\sum_{j=0}^\\infty c_jx^j \\right)\\left(\\sum_{k=0}^{m} b_k x^k \\right)$$ "
   ]
  },
  {
   "cell_type": "markdown",
   "metadata": {},
   "source": [
    "Thus \n",
    "$$ a_i x^i = \\sum_{p=0}^{\\text{min}(i,\\ m)} (c_{i-p}x^{i-p})(b_{p}x^{p}) = \\sum_{p=0}^{\\text{min}(i,\\ m)} c_{i-p} b_px^i $$"
   ]
  },
  {
   "cell_type": "markdown",
   "metadata": {},
   "source": [
    "First consider the case where $i \\leq m,$ such that $\\text{min}(i,\\ m) = i.$ Then\n",
    "\n",
    "$$ a_i = \\sum_{p=0}^i c_{i-p} b_{p} = c_ib_0 + \\left(\\sum_{p=1}^{i} c_{i-p} b_{p} \\right) $$"
   ]
  },
  {
   "cell_type": "markdown",
   "metadata": {},
   "source": [
    "Solving for $c_i,$"
   ]
  },
  {
   "cell_type": "markdown",
   "metadata": {},
   "source": [
    "$$ c_i = \\frac{a_i - \\sum_{p=1}^{i}c_{i-p}b_p}{b_0}$$"
   ]
  },
  {
   "cell_type": "markdown",
   "metadata": {},
   "source": [
    "If $i > m,$ then $\\text{min}(i,\\ m) = m$\n",
    "\n",
    "$$ a_i = \\sum_{p=0}^m c_{i-p} b_p = c_ib_0 + \\sum_{p=1}^ic_{i-p}b_p$$"
   ]
  },
  {
   "cell_type": "markdown",
   "metadata": {},
   "source": [
    "Solving for c_i,"
   ]
  },
  {
   "cell_type": "markdown",
   "metadata": {},
   "source": [
    "$$c_i = \\frac{a_i - \\sum_{p=1}^i c_{i-p}b_p}{b_0} $$"
   ]
  },
  {
   "cell_type": "markdown",
   "metadata": {},
   "source": [
    "If $i > n,$ then $a_i = 0.$"
   ]
  },
  {
   "cell_type": "markdown",
   "metadata": {},
   "source": [
    "Using this, we have an efficient algorithm for the coefficients in the Taylor series"
   ]
  },
  {
   "cell_type": "code",
   "execution_count": 3,
   "metadata": {},
   "outputs": [],
   "source": [
    "def newGetTaylorCoeffs(numerator, denominator, numCoeffs):\n",
    "    '''\n",
    "    '''\n",
    "    t = symbols('t')\n",
    "    \n",
    "    temp = [0] * (1 + degree(numerator[0]))\n",
    "    for i in numerator:\n",
    "        # We cannot cast constants to polynomials\n",
    "        try: \n",
    "            poly = Poly(i)\n",
    "            temp[degree(poly)] = poly.coeffs()[0]\n",
    "        except: \n",
    "            temp[0] = i\n",
    "    numerator = temp\n",
    "    \n",
    "    temp = [0] * (1 + degree(denominator[0]))\n",
    "    for i in denominator:\n",
    "        # We cannot cast constants to polynomials\n",
    "        try: \n",
    "            poly = Poly(i)\n",
    "            temp[degree(poly)] = poly.coeffs()[0]\n",
    "        except: \n",
    "            temp[0] = i\n",
    "    denominator = temp\n",
    "    \n",
    "    # C will be the resulting taylor series coefficients \n",
    "    c = [0] * numCoeffs\n",
    "    b_0 = denominator[0]\n",
    "    \n",
    "    # We generate one Taylor series coefficient per iteration\n",
    "    for i in range(0, numCoeffs): \n",
    "        total = 0 \n",
    "        if i < len(numerator): \n",
    "            total += numerator[i]\n",
    "        for p in range(0, i):\n",
    "            if (i - p) < len(denominator):\n",
    "                mul = c[p]*denominator[i-p]\n",
    "                total -= mul\n",
    "        \n",
    "        total /= b_0\n",
    "        c[i] = total \n",
    "        \n",
    "    return c"
   ]
  },
  {
   "cell_type": "markdown",
   "metadata": {},
   "source": [
    "We can also compute the Taylor series by original definition through derivatives in sympy. "
   ]
  },
  {
   "cell_type": "code",
   "execution_count": 5,
   "metadata": {},
   "outputs": [],
   "source": [
    "def getTaylorCoeffs(func, numCoeffs):\n",
    "    '''\n",
    "    Given an arbitrary rational function\n",
    "    ''' \n",
    "    t = symbols('t')\n",
    "    L = str(series(func, x=t, x0=0, n = numCoeffs)).split('+')\n",
    "    firstElement = L[0]\n",
    "    firstPower = re.search(\"\\*\\*([0-9]*)\", str(firstElement))\n",
    "    firstPower = int(firstPower.groups()[0])\n",
    "    taylorCoeffs = [0] * firstPower + [sympify(f).subs(t, 1) for f in L]\n",
    "    return taylorCoeffs\n"
   ]
  },
  {
   "cell_type": "markdown",
   "metadata": {},
   "source": [
    "Comparing the results, we see that the symbolic method is order of magnitudes slower. "
   ]
  },
  {
   "cell_type": "code",
   "execution_count": 6,
   "metadata": {},
   "outputs": [],
   "source": [
    "t = symbols('t')\n",
    "\n",
    "# Tests - generating functions taken from simple_test_cfgs\n",
    "f1             = \"(-1.0*t**6 - 1.0*t**5 - 1.0*t**4 - 1.0*t**3)/(1.0*t - 1.0)\"\n",
    "f1_numerator   = [-1.0*t**6, -1.0*t**5, -1.0*t**4, -1.0*t**3]\n",
    "f1_denominator = [1.0*t, -1.0]\n",
    "\n",
    "f2             = \"(-1.0*t**8 - 3.0*t**7 - 3.0*t**6 - 1.0*t**5)/(1.0*t - 1.0)\"\n",
    "f2_numerator   = [-1.0*t**8, -3.0*t**7, -3.0*t**6, -1.0*t**5]\n",
    "f2_denominator = [1.0*t, -1.0]\n",
    "\n",
    "f3             = \"(1.0*t**8 + 1.0*t**6 - 1.0*t**4)/(1.0*t**7 - 1.0*t**6 - 2.0\" \\\n",
    "                 \"*t**5 + 2.0*t**4 - 1.0*t**3 + 1.0*t**2 + 1.0*t - 1.0)\"\n",
    "f3_numerator   = [1.0*t**8, 1.0*t**6, -1.0*t**4]\n",
    "f3_denominator = [1.0*t**7, -1.0*t**6 -2.0*t**5, 2.0*t**4, -1.0*t**3, 1.0*t**2, 1.0*t, - 1.0]\n",
    "\n",
    "f4             = \"-1.0*t**8/(-1.0*t**7 + 1.0*t**6 + 3.0*t**5 - 3.0*t**4 - \" \\\n",
    "                 \"3.0*t**3 + 3.0*t**2 + 1.0*t - 1.0)\"\n",
    "f4_numerator   = [-1.0*t**8]\n",
    "f4_denominator = [-1.0*t**7, 1.0*t**6, 3.0*t**5, -3.0*t**4, -3.0*t**3, 3.0*t**2, 1.0*t, -1.0]\n",
    "\n",
    "f5             = \"(1.0*t**8 + 1.0*t**6 - 1.0*t**4)/(1.0*t**7 - 1.0*t**6 - \" \\\n",
    "                 \"2.0*t**5 + 2.0*t**4 - 1.0*t**3 + 1.0*t**2 + 1.0*t - 1.0)\"\n",
    "f5_numerator   = [1.0*t**8, 1.0*t**6, -1.0*t**4]\n",
    "f5_denominator = [1.0*t**7, -1.0*t**6, -2.0*t**5, 2.0*t**4, -1.0*t**3, 1.0*t**2, 1.0*t, -1.0]\n",
    "\n",
    "f6             = \"-1.0*t**8/(-1.0*t**6 + 2.0*t**5 + 1.0*t**4 - 4.0*t**3 + 1.0*t**2 + 2.0*t - 1.0)\"\n",
    "f6_numerator   = [-1.0*t**8]\n",
    "f6_denominator = [-1.0*t**6, 2.0*t**5, 1.0*t**4, -4.0*t**3, 1.0*t**2, 2.0*t, - 1.0]"
   ]
  },
  {
   "cell_type": "code",
   "execution_count": 34,
   "metadata": {},
   "outputs": [
    {
     "name": "stdout",
     "output_type": "stream",
     "text": [
      "[0, 0, 0, 1.00000000000000, 2.00000000000000, 3.00000000000000, 4.00000000000000, 4.00000000000000, 4.00000000000000, 4.00000000000000, 4.00000000000000, 4.00000000000000, 4.00000000000000, 4.00000000000000, 4.00000000000000, O(1)] \n",
      "\n",
      "[0, 0, 0, 0, 0, 1.00000000000000, 4.00000000000000, 7.00000000000000, 8.00000000000000, 8.00000000000000, 8.00000000000000, 8.00000000000000, 8.00000000000000, 8.00000000000000, 8.00000000000000, O(1)] \n",
      "\n",
      "[0, 0, 0, 0, 1.00000000000000, 1.00000000000000, 1.00000000000000, 1.00000000000000, 2.00000000000000, 2.00000000000000, 2.00000000000000, 2.00000000000000, 4.00000000000000, 4.00000000000000, 5.00000000000000, O(1)] \n",
      "\n",
      "[0, 0, 0, 0, 0, 0, 0, 0, 1.00000000000000, 1.00000000000000, 4.00000000000000, 4.00000000000000, 10.0000000000000, 10.0000000000000, 20.0000000000000, O(1)] \n",
      "\n",
      "[0, 0, 0, 0, 1.00000000000000, 1.00000000000000, 1.00000000000000, 1.00000000000000, 2.00000000000000, 2.00000000000000, 2.00000000000000, 2.00000000000000, 4.00000000000000, 4.00000000000000, 5.00000000000000, O(1)] \n",
      "\n",
      "[0, 0, 0, 0, 0, 0, 0, 0, 1.00000000000000, 2.00000000000000, 5.00000000000000, 8.00000000000000, 14.0000000000000, 20.0000000000000, 30.0000000000000, O(1)] \n",
      "\n",
      "Time Taken: 4.239 \n",
      "\n"
     ]
    }
   ],
   "source": [
    "L  = [f1, f2, f3, f4, f5, f6]\n",
    "L1 = [f1_numerator  , f2_numerator  , f3_numerator  , f4_numerator  , f5_numerator  , f6_numerator]\n",
    "L2 = [f1_denominator, f2_denominator, f3_denominator, f4_denominator, f5_denominator, f6_denominator]\n",
    "\n",
    "st = time()\n",
    "for f in L:\n",
    "    print(getTaylorCoeffs(f, 15), \"\\n\")\n",
    "    \n",
    "print(\"Time Taken: \" + str(round(time() - st, 3)), \"\\n\")"
   ]
  },
  {
   "cell_type": "code",
   "execution_count": 84,
   "metadata": {},
   "outputs": [
    {
     "name": "stdout",
     "output_type": "stream",
     "text": [
      "Numerator: [-1.0*t**6, -1.0*t**5, -1.0*t**4, -1.0*t**3]\n",
      "Denominator: [1.0*t, -1.0]\n",
      "Denominator: [-1.0, 1.00000000000000]\n",
      "Numerator: [0, 0, 0, -1.00000000000000, -1.00000000000000, -1.00000000000000, -1.00000000000000]\n",
      "B_0 is: -1.0\n",
      "[-0.0, 0, 0, 1.00000000000000, 2.00000000000000, 3.00000000000000, 4.00000000000000, 4.00000000000000, 4.00000000000000, 4.00000000000000, 4.00000000000000, 4.00000000000000, 4.00000000000000, 4.00000000000000, 4.00000000000000] \n",
      "\n",
      "Numerator: [-1.0*t**8, -3.0*t**7, -3.0*t**6, -1.0*t**5]\n",
      "Denominator: [1.0*t, -1.0]\n",
      "Denominator: [-1.0, 1.00000000000000]\n",
      "Numerator: [0, 0, 0, 0, 0, -1.00000000000000, -3.00000000000000, -3.00000000000000, -1.00000000000000]\n",
      "B_0 is: -1.0\n",
      "[-0.0, 0, 0, 0, 0, 1.00000000000000, 4.00000000000000, 7.00000000000000, 8.00000000000000, 8.00000000000000, 8.00000000000000, 8.00000000000000, 8.00000000000000, 8.00000000000000, 8.00000000000000] \n",
      "\n",
      "Numerator: [1.0*t**8, 1.0*t**6, -1.0*t**4]\n",
      "Denominator: [1.0*t**7, -1.0*t**6 - 2.0*t**5, 2.0*t**4, -1.0*t**3, 1.0*t**2, 1.0*t, -1.0]\n",
      "Denominator: [-1.0, 1.00000000000000, 1.00000000000000, -1.00000000000000, 2.00000000000000, 0, -1.00000000000000, 1.00000000000000]\n",
      "Numerator: [0, 0, 0, 0, -1.00000000000000, 0, 1.00000000000000, 0, 1.00000000000000]\n",
      "B_0 is: -1.0\n",
      "[-0.0, 0, 0, 0, 1.00000000000000, 1.00000000000000, 1.00000000000000, 1.00000000000000, 2.00000000000000, 4.00000000000000, 6.00000000000000, 10.0000000000000, 16.0000000000000, 28.0000000000000, 45.0000000000000] \n",
      "\n",
      "Numerator: [-1.0*t**8]\n",
      "Denominator: [-1.0*t**7, 1.0*t**6, 3.0*t**5, -3.0*t**4, -3.0*t**3, 3.0*t**2, 1.0*t, -1.0]\n",
      "Denominator: [-1.0, 1.00000000000000, 3.00000000000000, -3.00000000000000, -3.00000000000000, 3.00000000000000, 1.00000000000000, -1.00000000000000]\n",
      "Numerator: [0, 0, 0, 0, 0, 0, 0, 0, -1.00000000000000]\n",
      "B_0 is: -1.0\n",
      "[-0.0, 0, 0, 0, 0, 0, 0, 0, 1.00000000000000, 1.00000000000000, 4.00000000000000, 4.00000000000000, 10.0000000000000, 10.0000000000000, 20.0000000000000] \n",
      "\n",
      "Numerator: [1.0*t**8, 1.0*t**6, -1.0*t**4]\n",
      "Denominator: [1.0*t**7, -1.0*t**6, -2.0*t**5, 2.0*t**4, -1.0*t**3, 1.0*t**2, 1.0*t, -1.0]\n",
      "Denominator: [-1.0, 1.00000000000000, 1.00000000000000, -1.00000000000000, 2.00000000000000, -2.00000000000000, -1.00000000000000, 1.00000000000000]\n",
      "Numerator: [0, 0, 0, 0, -1.00000000000000, 0, 1.00000000000000, 0, 1.00000000000000]\n",
      "B_0 is: -1.0\n",
      "[-0.0, 0, 0, 0, 1.00000000000000, 1.00000000000000, 1.00000000000000, 1.00000000000000, 2.00000000000000, 2.00000000000000, 2.00000000000000, 2.00000000000000, 4.00000000000000, 4.00000000000000, 5.00000000000000] \n",
      "\n",
      "Numerator: [-1.0*t**8]\n",
      "Denominator: [-1.0*t**6, 2.0*t**5, 1.0*t**4, -4.0*t**3, 1.0*t**2, 2.0*t, -1.0]\n",
      "Denominator: [-1.0, 2.00000000000000, 1.00000000000000, -4.00000000000000, 1.00000000000000, 2.00000000000000, -1.00000000000000]\n",
      "Numerator: [0, 0, 0, 0, 0, 0, 0, 0, -1.00000000000000]\n",
      "B_0 is: -1.0\n",
      "[-0.0, 0, 0, 0, 0, 0, 0, 0, 1.00000000000000, 2.00000000000000, 5.00000000000000, 8.00000000000000, 14.0000000000000, 20.0000000000000, 30.0000000000000] \n",
      "\n",
      "Time Taken: 0.057\n"
     ]
    }
   ],
   "source": [
    "st = time()\n",
    "for i in range(len(L)):\n",
    "    print(newGetTaylorCoeffs(L1[i], L2[i], 15), \"\\n\")\n",
    "    \n",
    "print(\"Time Taken: \" + str(round(time() - st, 3)))"
   ]
  },
  {
   "cell_type": "markdown",
   "metadata": {},
   "source": [
    "## Solving Recurrences\n",
    "\n",
    "The relation we obtain in the \n",
    "pathComplexity algorithm is a linear \n",
    "homogeneous recurrence relation, \n",
    "\n",
    "$$ a_n = c_1a_{n-1} + \\cdots + c_ka_{n-k}. $$\n",
    "\n",
    "To solve this, we'll look for solutions of form $a_n = r^n.$\n",
    "Suppose \n",
    "$$ r^n = c_1r^{n-1} + \\cdots + c_kr^{n -k}. $$\n",
    "Rearranging yields the characteristic equation,\n",
    "$$ r^k - c_1r^{k-1} - \\cdots - c_k = 0. $$ \n",
    "\n",
    "We know $r$ is a solution to the characteristic\n",
    "equation if and only $r^n$ is a solution to \n",
    "recurrence. \n",
    "\n",
    "Further, any linear combinations of solutions \n",
    "to characteristic equation are of solutions to the characteristic equation. Thus factoring the characteristic equation into \n",
    "\n",
    "$$ (r - r_1)^{m_1} \\cdots (r - r_k)^{m_k} = 0 $$\n",
    "\n",
    "yields solution\n",
    "\n",
    "$$ a_n = \\sum_{j=1}^k \\sum_{i = 0}^{m_j} n^i r_j^n. $$"
   ]
  },
  {
   "cell_type": "markdown",
   "metadata": {},
   "source": [
    "We can find the solution from the roots of the characteristic equation or from the roots of the \n",
    "denominator of the generating function directly."
   ]
  },
  {
   "cell_type": "code",
   "execution_count": 11,
   "metadata": {},
   "outputs": [],
   "source": [
    "def getSolutionFromRoots(roots):\n",
    "    # Round to 4 digits \n",
    "    roots = [complex(round(root.real, 6), round(root.imag, 6)) for root in roots]\n",
    "\n",
    "    # Compute the multiplicy of each root\n",
    "    rootsWithMultiplicites = Counter(roots)\n",
    "\n",
    "    # Compute the coefficients of a_n as a list\n",
    "    a_n = []\n",
    "    for root in rootsWithMultiplicites.keys():\n",
    "        for i in range(0, rootsWithMultiplicites[root]):\n",
    "            if root == 1: \n",
    "                a_n += [sympify(f\"(n**{i})\")]\n",
    "            else: \n",
    "                a_n += [sympify(f\"(n**{i})*{root}**n\")]\n",
    "\n",
    "    return a_n"
   ]
  },
  {
   "cell_type": "code",
   "execution_count": 12,
   "metadata": {},
   "outputs": [],
   "source": [
    "def getRecurrenceSolution(recurrenceRelation):\n",
    "    '''\n",
    "    Returns the coefficients to a homogeneous linear recurrence relation \n",
    "    ''' \n",
    "    # Define symbolic terms \n",
    "    n = symbols('n')\n",
    "    f = Function('f')\n",
    "\n",
    "    recurrence = str(recurrenceRelation)\n",
    "\n",
    "    # Regular expression to parse the recurrence relation expression. \n",
    "    # RE matches a particular term: Coefficient + f(something)\n",
    "    matchObj = re.findall('([ +-.0-9]*)(\\*)(f\\([ a-zA-Z0-9-+]*\\))', recurrence)\n",
    "    coeffs = []\n",
    "    for match in matchObj:\n",
    "        coeffs += [float(match[0].replace(\" \", \"\"))]\n",
    "\n",
    "    # Get the coefficients by parsing the string \n",
    "    coeffs = [coeffs[0]] + coeffs[1:][::-1]\n",
    "\n",
    "    # Normalize such that leading coefficient is 1\n",
    "    leadingCoeff = coeffs[0]\n",
    "    coeffs = list(map(lambda coeff: coeff / leadingCoeff, coeffs))\n",
    "    \n",
    "    # Find the roots of the characteristic equation \n",
    "    # through arbitrary precision root finding function\n",
    "    roots = polyroots(coeffs, maxsteps=200, extraprec=200)\n",
    "\n",
    "    return getSolutionFromRoots(roots)"
   ]
  },
  {
   "cell_type": "markdown",
   "metadata": {},
   "source": [
    "# Path Complixity Using Sympy\n",
    "\n",
    "Sympy is a module that lets us perform computations (like in numpy) but symbolically.\n",
    "We first define a graph class that will store the CFGs.\n"
   ]
  },
  {
   "cell_type": "code",
   "execution_count": 13,
   "metadata": {},
   "outputs": [],
   "source": [
    "import numpy as np \n",
    "import re \n",
    "\n",
    "class Graph(object):\n",
    "    def __init__(self, edges, vertices, startNode, endNode):\n",
    "        self.edges = edges\n",
    "        self.vertices = vertices\n",
    "        self.startNode = startNode\n",
    "        self.endNode = endNode\n",
    "\n",
    "    def edgeRules(self):\n",
    "        return self.edges\n",
    "    \n",
    "    def vertexCount(self):\n",
    "        return len(self.vertices)\n",
    "\n",
    "    def getVertices(self): \n",
    "        return self.vertices\n",
    "\n",
    "    def adjacencyMatrix(self): \n",
    "        adjMat = np.zeros((self.endNode + 1, self.endNode + 1))\n",
    "\n",
    "        # Output the matrix in the same format as the mathematica code...\n",
    "        # First row = START \n",
    "        # Second row = END \n",
    "        # Third, n = 2, ..., END - 1\n",
    "\n",
    "        for edge_one, edge_two in self.edgeRules(): \n",
    "            if edge_one == 0: \n",
    "                edge_one = 0 \n",
    "            elif edge_one == self.endNode: \n",
    "                edge_one = 1 \n",
    "            else:\n",
    "                edge_one += 1 \n",
    "\n",
    "            if edge_two == 0: \n",
    "                edge_two = 0 \n",
    "            elif edge_two == self.endNode: \n",
    "                edge_two = 1 \n",
    "            else:\n",
    "                edge_two += 1 \n",
    "\n",
    "\n",
    "            adjMat[edge_one][edge_two] = 1 \n",
    "\n",
    "        return adjMat\n",
    "\n",
    "    @staticmethod\n",
    "    def fromFile(filename):\n",
    "        '''\n",
    "        Returns a Graph object from a .dot file of format\n",
    "\n",
    "        digraph {\n",
    "            0 [label=\"START\"]\n",
    "            2 [label=\"EXIT\"]\n",
    "            a_i -> a_j\n",
    "            ...\n",
    "            a_k  -> a_m\n",
    "        }\n",
    "        Returns a Graph object from a .dot file of format\n",
    "\n",
    "        digraph {\n",
    "            0 [label=\"START\"]\n",
    "            2 [label=\"EXIT\"]\n",
    "            a_i -> a_j\n",
    "            ...\n",
    "            a_k  -> a_m\n",
    "        }\n",
    "        '''\n",
    "        edges = []\n",
    "        vertices = set()\n",
    "        startNode = None \n",
    "        endNode = None \n",
    "        \".*->.*\" # all of the edges \n",
    "        \".*\\[label.*\\]\" # all of the nodes \n",
    "        with open(filename, \"r\") as f:\n",
    "            for line in f.readlines()[1:]:\n",
    "                match = re.search(\"([0-9]*)\\s*->\\s*([0-9]*)\", line)\n",
    "                if match is None:\n",
    "                    match = re.search(\"([0-9]*)\\s*\\[label=\\\"(.*)\\\"\\]\", line)\n",
    "                    if match is not None:\n",
    "                        node = int(match.group(1))\n",
    "                        node_label = match.group(2) \n",
    "                        vertices.add(node)\n",
    "                        if node_label == \"START\":\n",
    "                            startNode = node\n",
    "                        elif node_label == \"EXIT\":\n",
    "                            endNode = node\n",
    "                else:\n",
    "                    node1 = int(match.group(1))\n",
    "                    node2 = int(match.group(2))\n",
    "                    vertices.add(node1)\n",
    "                    vertices.add(node2)\n",
    "                    edges.append([node1, node2])\n",
    "\n",
    "        return Graph(edges, vertices, startNode, endNode)"
   ]
  },
  {
   "cell_type": "code",
   "execution_count": 23,
   "metadata": {},
   "outputs": [],
   "source": [
    "init_printing(use_latex='mathjax')\n",
    "# Create the graph representing CFGs\n",
    "edges = [] \n",
    "vertices = set() \n",
    "startNode = 0\n",
    "endNode = 1\n",
    "G = Graph(edges, vertices, startNode, endNode)"
   ]
  },
  {
   "cell_type": "code",
   "execution_count": 29,
   "metadata": {
    "scrolled": true
   },
   "outputs": [
    {
     "data": {
      "text/latex": [
       "$$\\left[\\begin{matrix}0.0 & 0.0\\\\0.0 & 1.0\\end{matrix}\\right]$$"
      ],
      "text/plain": [
       "⎡0.0  0.0⎤\n",
       "⎢        ⎥\n",
       "⎣0.0  1.0⎦"
      ]
     },
     "metadata": {},
     "output_type": "display_data"
    }
   ],
   "source": [
    "init_printing(use_latex='mathjax')\n",
    "# Get a matrix from G (a Graph)\n",
    "adjMat = G.adjacencyMatrix()\n",
    "adjMat[1][1] = 1\n",
    "A = Matrix(adjMat)\n",
    "display(A)"
   ]
  },
  {
   "cell_type": "code",
   "execution_count": 34,
   "metadata": {},
   "outputs": [
    {
     "data": {
      "text/latex": [
       "$$0$$"
      ],
      "text/plain": [
       "0"
      ]
     },
     "metadata": {},
     "output_type": "display_data"
    }
   ],
   "source": [
    "# Create the generating function from the adjacency matrix \n",
    "t = symbols('t')\n",
    "dimension = adjMat.shape[0]\n",
    "X = eye(dimension) - A*t\n",
    "X_sub = X.copy()\n",
    "X_sub.col_del(0)        \n",
    "X_sub.row_del(1)\n",
    "Xdet = X.det()\n",
    "denominator = Poly(-Xdet)\n",
    "generatingFunction = X_sub.det() / denominator\n",
    "display(generatingFunction)"
   ]
  },
  {
   "cell_type": "code",
   "execution_count": 37,
   "metadata": {},
   "outputs": [
    {
     "data": {
      "text/latex": [
       "$$\\left [ 1\\right ]$$"
      ],
      "text/plain": [
       "[1]"
      ]
     },
     "metadata": {},
     "output_type": "display_data"
    }
   ],
   "source": [
    "# Obtain the solution to recurrence relation created from generating fn\n",
    "recurrenceDegree = degree(denominator, gen=t) + 1 \n",
    "recurrenceKernel = denominator.all_coeffs()[::-1]\n",
    "\n",
    "roots = polyroots([round(-x, 2) for x in recurrenceKernel], \n",
    "                  maxsteps=200, extraprec=200)\n",
    "\n",
    "terms = getSolutionFromRoots(roots)\n",
    "display(terms)"
   ]
  },
  {
   "cell_type": "code",
   "execution_count": 40,
   "metadata": {},
   "outputs": [
    {
     "data": {
      "text/latex": [
       "$$\\left[\\begin{matrix}\\frac{1}{C_{0}}\\end{matrix}\\right]$$"
      ],
      "text/plain": [
       "⎡1 ⎤\n",
       "⎢──⎥\n",
       "⎣C₀⎦"
      ]
     },
     "metadata": {},
     "output_type": "display_data"
    }
   ],
   "source": [
    "# Obtain matrix from the recurrence solution\n",
    "n = symbols('n')\n",
    "coefficients = symbols(\"C0:\" + str(len(terms)))\n",
    "if len(coefficients) == 1: \n",
    "    factors = [i / j for i, j in zip(terms, coefficients)]\n",
    "else: \n",
    "    factors = terms\n",
    "\n",
    "M = Matrix([[fact.replace(n, nval) for fact in factors] for nval in range(1, len(factors)+1)])\n",
    "display(M)"
   ]
  },
  {
   "cell_type": "code",
   "execution_count": 41,
   "metadata": {},
   "outputs": [],
   "source": [
    "# Invert matrix\n",
    "invM = M**-1  "
   ]
  },
  {
   "cell_type": "code",
   "execution_count": 42,
   "metadata": {},
   "outputs": [
    {
     "ename": "NameError",
     "evalue": "name 'getTaylorCoeffs' is not defined",
     "output_type": "error",
     "traceback": [
      "\u001b[0;31m---------------------------------------------------------------------------\u001b[0m",
      "\u001b[0;31mNameError\u001b[0m                                 Traceback (most recent call last)",
      "\u001b[0;32m<ipython-input-42-fbb34ae1ca5a>\u001b[0m in \u001b[0;36m<module>\u001b[0;34m\u001b[0m\n\u001b[1;32m      1\u001b[0m \u001b[0;31m# Compute the base cases\u001b[0m\u001b[0;34m\u001b[0m\u001b[0;34m\u001b[0m\u001b[0;34m\u001b[0m\u001b[0m\n\u001b[0;32m----> 2\u001b[0;31m \u001b[0mtaylorCoeffs\u001b[0m \u001b[0;34m=\u001b[0m \u001b[0mgetTaylorCoeffs\u001b[0m\u001b[0;34m(\u001b[0m\u001b[0mgeneratingFunction\u001b[0m\u001b[0;34m,\u001b[0m \u001b[0;36m2\u001b[0m \u001b[0;34m*\u001b[0m \u001b[0mdimension\u001b[0m \u001b[0;34m+\u001b[0m \u001b[0;36m1\u001b[0m\u001b[0;34m)\u001b[0m\u001b[0;34m\u001b[0m\u001b[0;34m\u001b[0m\u001b[0m\n\u001b[0m\u001b[1;32m      3\u001b[0m baseCases = Matrix(taylorCoeffs[dimension :\n\u001b[1;32m      4\u001b[0m                    dimension + recurrenceDegree - 1])\n\u001b[1;32m      5\u001b[0m \u001b[0;34m\u001b[0m\u001b[0m\n",
      "\u001b[0;31mNameError\u001b[0m: name 'getTaylorCoeffs' is not defined"
     ]
    }
   ],
   "source": [
    "# Compute the base cases \n",
    "taylorCoeffs = getTaylorCoeffs(generatingFunction, 2 * dimension + 1)\n",
    "baseCases = Matrix(taylorCoeffs[dimension :\n",
    "                   dimension + recurrenceDegree - 1])\n",
    "    \n",
    "# Should have as many things as the recurrenceKernel\n",
    "lRange = Matrix(list(range(0, recurrenceDegree)))\n",
    "nRange = Matrix([n for _ in range(0, recurrenceDegree)])"
   ]
  },
  {
   "cell_type": "code",
   "execution_count": 21,
   "metadata": {},
   "outputs": [
    {
     "ename": "NameError",
     "evalue": "name 'polyroots' is not defined",
     "output_type": "error",
     "traceback": [
      "\u001b[0;31m---------------------------------------------------------------------------\u001b[0m",
      "\u001b[0;31mNameError\u001b[0m                                 Traceback (most recent call last)",
      "\u001b[0;32m<ipython-input-21-4824a1160e08>\u001b[0m in \u001b[0;36m<module>\u001b[0;34m\u001b[0m\n\u001b[1;32m      4\u001b[0m \u001b[0mtest\u001b[0m \u001b[0;34m=\u001b[0m \u001b[0;34m[\u001b[0m\u001b[0mround\u001b[0m\u001b[0;34m(\u001b[0m\u001b[0;34m-\u001b[0m\u001b[0mx\u001b[0m\u001b[0;34m,\u001b[0m \u001b[0;36m2\u001b[0m\u001b[0;34m)\u001b[0m \u001b[0;32mfor\u001b[0m \u001b[0mx\u001b[0m \u001b[0;32min\u001b[0m \u001b[0mrecurrenceKernel\u001b[0m\u001b[0;34m]\u001b[0m\u001b[0;34m\u001b[0m\u001b[0;34m\u001b[0m\u001b[0m\n\u001b[1;32m      5\u001b[0m \u001b[0;34m\u001b[0m\u001b[0m\n\u001b[0;32m----> 6\u001b[0;31m \u001b[0mroots\u001b[0m \u001b[0;34m=\u001b[0m \u001b[0mpolyroots\u001b[0m\u001b[0;34m(\u001b[0m\u001b[0mtest\u001b[0m\u001b[0;34m,\u001b[0m \u001b[0mmaxsteps\u001b[0m\u001b[0;34m=\u001b[0m\u001b[0;36m200\u001b[0m\u001b[0;34m,\u001b[0m \u001b[0mextraprec\u001b[0m\u001b[0;34m=\u001b[0m\u001b[0;36m200\u001b[0m\u001b[0;34m)\u001b[0m\u001b[0;34m\u001b[0m\u001b[0;34m\u001b[0m\u001b[0m\n\u001b[0m\u001b[1;32m      7\u001b[0m \u001b[0;34m\u001b[0m\u001b[0m\n\u001b[1;32m      8\u001b[0m \u001b[0mtaylorCoeffs\u001b[0m \u001b[0;34m=\u001b[0m \u001b[0mgetTaylorCoeffs\u001b[0m\u001b[0;34m(\u001b[0m\u001b[0mgeneratingFunction\u001b[0m\u001b[0;34m,\u001b[0m \u001b[0;36m2\u001b[0m \u001b[0;34m*\u001b[0m \u001b[0mdimension\u001b[0m \u001b[0;34m+\u001b[0m \u001b[0;36m1\u001b[0m\u001b[0;34m)\u001b[0m\u001b[0;34m\u001b[0m\u001b[0;34m\u001b[0m\u001b[0m\n",
      "\u001b[0;31mNameError\u001b[0m: name 'polyroots' is not defined"
     ]
    }
   ],
   "source": [
    "# Obtain the solution \n",
    "boundingSolutionTerms = (invM * baseCases)\n",
    "boundingSolutionTerms = boundingSolutionTerms.dot(Matrix(factors))\n",
    "s = str(expand(boundingSolutionTerms))"
   ]
  },
  {
   "cell_type": "code",
   "execution_count": 43,
   "metadata": {},
   "outputs": [],
   "source": [
    "# Replace all instances of x^n with abs(x)^n\n",
    "expr = \"[*]\\(([-][0-9]*)\\)\\*\\*n\" \n",
    "def replaceWithAbsoluteVal(match):\n",
    "    base = abs(float(match.groups()[0]))\n",
    "    if base == 1: \n",
    "        return \"\"\n",
    "    return f\"{base}**n\"\n"
   ]
  },
  {
   "cell_type": "code",
   "execution_count": 44,
   "metadata": {},
   "outputs": [
    {
     "ename": "NameError",
     "evalue": "name 's' is not defined",
     "output_type": "error",
     "traceback": [
      "\u001b[0;31m---------------------------------------------------------------------------\u001b[0m",
      "\u001b[0;31mNameError\u001b[0m                                 Traceback (most recent call last)",
      "\u001b[0;32m<ipython-input-44-f72813eb00c8>\u001b[0m in \u001b[0;36m<module>\u001b[0;34m\u001b[0m\n\u001b[1;32m      1\u001b[0m \u001b[0;34m\u001b[0m\u001b[0m\n\u001b[1;32m      2\u001b[0m \u001b[0;31m# Replace all complex numbers with their absolute values\u001b[0m\u001b[0;34m\u001b[0m\u001b[0;34m\u001b[0m\u001b[0;34m\u001b[0m\u001b[0m\n\u001b[0;32m----> 3\u001b[0;31m \u001b[0ms\u001b[0m \u001b[0;34m=\u001b[0m \u001b[0mre\u001b[0m\u001b[0;34m.\u001b[0m\u001b[0msub\u001b[0m\u001b[0;34m(\u001b[0m\u001b[0mexpr\u001b[0m\u001b[0;34m,\u001b[0m \u001b[0mreplaceWithAbsoluteVal\u001b[0m\u001b[0;34m,\u001b[0m \u001b[0ms\u001b[0m\u001b[0;34m)\u001b[0m\u001b[0;34m\u001b[0m\u001b[0;34m\u001b[0m\u001b[0m\n\u001b[0m\u001b[1;32m      4\u001b[0m \u001b[0ms\u001b[0m \u001b[0;34m=\u001b[0m \u001b[0mstr\u001b[0m\u001b[0;34m(\u001b[0m\u001b[0msimplify\u001b[0m\u001b[0;34m(\u001b[0m\u001b[0msympify\u001b[0m\u001b[0;34m(\u001b[0m\u001b[0ms\u001b[0m\u001b[0;34m)\u001b[0m\u001b[0;34m)\u001b[0m\u001b[0;34m)\u001b[0m\u001b[0;34m\u001b[0m\u001b[0;34m\u001b[0m\u001b[0m\n\u001b[1;32m      5\u001b[0m \u001b[0;34m\u001b[0m\u001b[0m\n",
      "\u001b[0;31mNameError\u001b[0m: name 's' is not defined"
     ]
    }
   ],
   "source": [
    "# Replace all complex numbers with their absolute values\n",
    "s = re.sub(expr, replaceWithAbsoluteVal, s)\n",
    "s = str(simplify(sympify(s)))    "
   ]
  },
  {
   "cell_type": "code",
   "execution_count": 45,
   "metadata": {},
   "outputs": [
    {
     "ename": "NameError",
     "evalue": "name 's' is not defined",
     "output_type": "error",
     "traceback": [
      "\u001b[0;31m---------------------------------------------------------------------------\u001b[0m",
      "\u001b[0;31mNameError\u001b[0m                                 Traceback (most recent call last)",
      "\u001b[0;32m<ipython-input-45-c22724bcac50>\u001b[0m in \u001b[0;36m<module>\u001b[0;34m\u001b[0m\n\u001b[1;32m      1\u001b[0m \u001b[0;31m# Split terms on '+'\u001b[0m\u001b[0;34m\u001b[0m\u001b[0;34m\u001b[0m\u001b[0;34m\u001b[0m\u001b[0m\n\u001b[0;32m----> 2\u001b[0;31m \u001b[0mterms\u001b[0m \u001b[0;34m=\u001b[0m \u001b[0;34m[\u001b[0m\u001b[0mx\u001b[0m\u001b[0;34m.\u001b[0m\u001b[0mstrip\u001b[0m\u001b[0;34m(\u001b[0m\u001b[0;34m)\u001b[0m \u001b[0;32mfor\u001b[0m \u001b[0mx\u001b[0m \u001b[0;32min\u001b[0m \u001b[0ms\u001b[0m\u001b[0;34m.\u001b[0m\u001b[0msplit\u001b[0m\u001b[0;34m(\u001b[0m\u001b[0;34m\" + \"\u001b[0m\u001b[0;34m)\u001b[0m\u001b[0;34m]\u001b[0m\u001b[0;34m\u001b[0m\u001b[0;34m\u001b[0m\u001b[0m\n\u001b[0m\u001b[1;32m      3\u001b[0m \u001b[0mnewTerms\u001b[0m \u001b[0;34m=\u001b[0m \u001b[0;34m[\u001b[0m\u001b[0;34m]\u001b[0m\u001b[0;34m\u001b[0m\u001b[0;34m\u001b[0m\u001b[0m\n\u001b[1;32m      4\u001b[0m \u001b[0;32mfor\u001b[0m \u001b[0mterm\u001b[0m \u001b[0;32min\u001b[0m \u001b[0mterms\u001b[0m\u001b[0;34m:\u001b[0m\u001b[0;34m\u001b[0m\u001b[0;34m\u001b[0m\u001b[0m\n\u001b[1;32m      5\u001b[0m     \u001b[0mnewTerms\u001b[0m \u001b[0;34m+=\u001b[0m \u001b[0mstr\u001b[0m\u001b[0;34m(\u001b[0m\u001b[0mterm\u001b[0m\u001b[0;34m)\u001b[0m\u001b[0;34m.\u001b[0m\u001b[0msplit\u001b[0m\u001b[0;34m(\u001b[0m\u001b[0;34m\" - \"\u001b[0m\u001b[0;34m)\u001b[0m\u001b[0;34m\u001b[0m\u001b[0;34m\u001b[0m\u001b[0m\n",
      "\u001b[0;31mNameError\u001b[0m: name 's' is not defined"
     ]
    }
   ],
   "source": [
    "# Split terms on '+'\n",
    "terms = [x.strip() for x in s.split(\" + \")]\n",
    "newTerms = [] \n",
    "for term in terms: \n",
    "    newTerms += str(term).split(\" - \")\n",
    "APC = bigO(newTerms)"
   ]
  },
  {
   "cell_type": "markdown",
   "metadata": {},
   "source": [
    "# Testing Exponential Classifier"
   ]
  },
  {
   "cell_type": "code",
   "execution_count": 9,
   "metadata": {},
   "outputs": [
    {
     "name": "stdout",
     "output_type": "stream",
     "text": [
      "1.3416407864998738\n"
     ]
    }
   ],
   "source": [
    "def isExponential(term, var): \n",
    "    '''\n",
    "    If an expression contains an exponential, return its base. \n",
    "    Otherwise, return None\n",
    "    '''\n",
    "    # TODO: UPDATE FOR CSV using ^ instead of **\n",
    "\n",
    "    # either ^n or ^(num*n)\n",
    "    num = \"([0-9][0-9]*[.][0-9]*)|([.][0-9][0-9]*)|([0-9][0-9]*)\" \n",
    "    searchString = f\"({num})\\^{var}\"\n",
    "    res = re.search(searchString, term)\n",
    "    if res: \n",
    "        return res.groups()[0]\n",
    "    \n",
    "    searchStringWithParens = f\"({num})\\^\\(({num})?\\*{var}\\)\"\n",
    "    res = re.search(searchStringWithParens, term)\n",
    "    if res: \n",
    "        return float(res.groups()[0])**float(res.groups()[4])\n",
    "    \n",
    "    return None\n",
    "\n",
    "val = isExponential(\"1.9000000000000001*1.8^(.5*n)\", 'n')\n",
    "val = isExponential(\"1.8^(.5*n)\", 'n')\n",
    "# val = isExponential(\"1 23123.212 31 ^n\")\n",
    "# val = isExponential(\"2.^(.5*n)\")\n",
    "print(val)"
   ]
  }
 ],
 "metadata": {
  "kernelspec": {
   "display_name": "Python 3",
   "language": "python",
   "name": "python3"
  },
  "language_info": {
   "codemirror_mode": {
    "name": "ipython",
    "version": 3
   },
   "file_extension": ".py",
   "mimetype": "text/x-python",
   "name": "python",
   "nbconvert_exporter": "python",
   "pygments_lexer": "ipython3",
   "version": "3.6.7"
  }
 },
 "nbformat": 4,
 "nbformat_minor": 2
}
