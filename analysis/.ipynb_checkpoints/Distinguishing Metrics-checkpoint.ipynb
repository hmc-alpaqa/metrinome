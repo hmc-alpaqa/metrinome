{
 "cells": [
  {
   "cell_type": "markdown",
   "metadata": {},
   "source": [
    "# Metrics \n",
    "\n",
    "We'd like to compare asymptotic path complexity to Cyclomatic Complexity and NPATH. We can consider all 3 of these metrics as taking some set S of N functions and finding a partition. \n",
    "\n",
    "Then, a metric A can be considered 'better' than metric B if metric A divides S into more subsets than set B. However, we would also like each subset to contain the same number of elements. For example, suppose metric A divides set $S=\\{1, 2, 3, 4\\}$ into $\\{\\{1\\}, \\{2, 3, 4\\}\\}$, whereas metric B divides S into $\\{\\{1, 2\\}, \\{3, 4\\}\\}$. Although both metrics divide $S$ into the same number of subsets, we consider metric $A$ better as the elements in $S$ are more unformly distributed into the subsets. \n",
    "\n",
    "Hence, we'd like to be able to measure how close a distribution is to the uniform distribution. We can do this from an information-theoretic approach or using distribution distances. Many of these functions are listed below.\n",
    "\n",
    "Note: Another possibility not discussed here is the Kolmogorov-Smirnov Test."
   ]
  },
  {
   "cell_type": "markdown",
   "metadata": {},
   "source": [
    "## Shannon Entropy \n",
    "\n",
    "Shannon entropy is defined as \n",
    "\n",
    "$$H(X) = -\\sum_{i=0}^{N-1}p_i log_2 p_i $$"
   ]
  },
  {
   "cell_type": "markdown",
   "metadata": {},
   "source": [
    "## Conditional Entropy\n",
    "\n",
    "The conditional entropy of Y given $X$ is \n",
    "\n",
    "$$H(Y|X) = -\\sum p(x, y)log \\frac{p(x, y)}{p(x)}$$"
   ]
  },
  {
   "cell_type": "markdown",
   "metadata": {},
   "source": [
    "## Measuring Distance Between Distributions"
   ]
  },
  {
   "cell_type": "markdown",
   "metadata": {},
   "source": [
    "1. Bhattacharyya Distance \n",
    "\n",
    "For probability distributions $p$ and $q$ over $X$, \n",
    "\n",
    "$$ D_b(p,q) = -ln(BC(p,q))$$\n",
    "\n",
    "where \n",
    "\n",
    "$$BC(p, q) = \\sum_{x\\in X} \\sqrt{p(x)q(x)}$$"
   ]
  },
  {
   "cell_type": "markdown",
   "metadata": {},
   "source": [
    "2. Mutual Information \n",
    "\n",
    "Let (X, Y) be a pair of random variables with join distribution $P_(X, Y),$ and marginal distributions $P_X, P_Y$. Further, let $D_{KL}$ be the Kullback-Leibler Divergence. Then the mutual information is \n",
    "\n",
    "$$ I(X; Y) = D_{KL}(P_{(X,Y)}||P_X \\otimes P_Y) $$"
   ]
  },
  {
   "cell_type": "markdown",
   "metadata": {},
   "source": [
    "3. Kullback-Leibler Divergence\n",
    "The Kullback-Leibler divergence between distributions $P$ and $Q$ is defined as \n",
    "\n",
    "$$ D_{KL}(P || Q) = -\\sum P(x) log \\frac{Q(X)}{P(X)} $$ "
   ]
  },
  {
   "cell_type": "markdown",
   "metadata": {},
   "source": [
    "4. Entropy Ratio \n",
    "\n",
    "One possible approach to compare two distributions is simply to take the ratio of their entropies. In this case, suppose we have two distributions over $N$ points.\n",
    "\n",
    "$$\\frac{H_1(X)}{H_2(X)} = \\frac{\\sum_{i=0}^{N-1}p_{1, i} log_2 p_{1, i}}{\\sum_{i=0}^{N-1}p_{2, i} log_2 p_{2, i}} $$"
   ]
  },
  {
   "cell_type": "markdown",
   "metadata": {},
   "source": [
    "5. Hellinger Distance \n",
    "\n",
    "For two discrete probability distributions $P$ and $Q$, their Hellinger distance is \n",
    "\n",
    "$$ H(P, Q) = \\frac{1}{\\sqrt{2}} \\sqrt{\\sum_{i=1}^k \\left(\\sqrt{p_i} - \\sqrt{q_i} \\right)^2}$$"
   ]
  }
 ],
 "metadata": {
  "kernelspec": {
   "display_name": "Python 3",
   "language": "python",
   "name": "python3"
  },
  "language_info": {
   "codemirror_mode": {
    "name": "ipython",
    "version": 3
   },
   "file_extension": ".py",
   "mimetype": "text/x-python",
   "name": "python",
   "nbconvert_exporter": "python",
   "pygments_lexer": "ipython3",
   "version": "3.6.7"
  }
 },
 "nbformat": 4,
 "nbformat_minor": 2
}
